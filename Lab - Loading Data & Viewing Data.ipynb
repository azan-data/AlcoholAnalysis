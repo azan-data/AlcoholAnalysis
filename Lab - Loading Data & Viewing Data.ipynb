{
    "cells": [
        {
            "metadata": {},
            "cell_type": "markdown",
            "source": "<a><img src=\"https://ibm.box.com/shared/static/ugcqz6ohbvff804xp84y4kqnvvk3bq1g.png\" width=\"200\" align=\"center\"></a>"
        },
        {
            "metadata": {},
            "cell_type": "markdown",
            "source": "<h1>Analyzing Where Do People Drink?  </h1>\n<h2>Description</h2>"
        },
        {
            "metadata": {},
            "cell_type": "markdown",
            "source": "This Dataset is from the story <a href=https://fivethirtyeight.com/features/dear-mona-followup-where-do-people-drink-the-most-beer-wine-and-spirits/>  Dear Mona Followup: Where Do People Drink The Most Beer, Wine And Spirits? </a>  The dataset contains Average serving sizes per person such as average wine, spirit, beer servings. As well as several other metrics. You will be asked to analyze the data and predict the total liters served given the servings. See how to share your lab at the end."
        },
        {
            "metadata": {},
            "cell_type": "markdown",
            "source": "You will need the following libraries:"
        },
        {
            "metadata": {},
            "cell_type": "code",
            "source": "import pandas as pd\nimport numpy as np\nimport matplotlib.pyplot as plt\nimport matplotlib as mpl\n\n",
            "execution_count": 2,
            "outputs": []
        },
        {
            "metadata": {},
            "cell_type": "markdown",
            "source": "<b>1.0 Importing the Data</b>"
        },
        {
            "metadata": {},
            "cell_type": "markdown",
            "source": "Load the csv:"
        },
        {
            "metadata": {},
            "cell_type": "code",
            "source": "df= pd.read_csv('https://s3-api.us-geo.objectstorage.softlayer.net/cf-courses-data/CognitiveClass/DA0101EN/edx/project/drinks.csv')\n",
            "execution_count": 3,
            "outputs": []
        },
        {
            "metadata": {},
            "cell_type": "markdown",
            "source": "We use the method  <code>head()</code>  to display the first 5 columns of the dataframe:"
        },
        {
            "metadata": {},
            "cell_type": "code",
            "source": "df.head()",
            "execution_count": 4,
            "outputs": [
                {
                    "output_type": "execute_result",
                    "execution_count": 4,
                    "data": {
                        "text/plain": "       country  beer_servings  spirit_servings  wine_servings  \\\n0  Afghanistan              0                0              0   \n1      Albania             89              132             54   \n2      Algeria             25                0             14   \n3      Andorra            245              138            312   \n4       Angola            217               57             45   \n\n   total_litres_of_pure_alcohol continent  \n0                           0.0      Asia  \n1                           4.9    Europe  \n2                           0.7    Africa  \n3                          12.4    Europe  \n4                           5.9    Africa  ",
                        "text/html": "<div>\n<style scoped>\n    .dataframe tbody tr th:only-of-type {\n        vertical-align: middle;\n    }\n\n    .dataframe tbody tr th {\n        vertical-align: top;\n    }\n\n    .dataframe thead th {\n        text-align: right;\n    }\n</style>\n<table border=\"1\" class=\"dataframe\">\n  <thead>\n    <tr style=\"text-align: right;\">\n      <th></th>\n      <th>country</th>\n      <th>beer_servings</th>\n      <th>spirit_servings</th>\n      <th>wine_servings</th>\n      <th>total_litres_of_pure_alcohol</th>\n      <th>continent</th>\n    </tr>\n  </thead>\n  <tbody>\n    <tr>\n      <th>0</th>\n      <td>Afghanistan</td>\n      <td>0</td>\n      <td>0</td>\n      <td>0</td>\n      <td>0.0</td>\n      <td>Asia</td>\n    </tr>\n    <tr>\n      <th>1</th>\n      <td>Albania</td>\n      <td>89</td>\n      <td>132</td>\n      <td>54</td>\n      <td>4.9</td>\n      <td>Europe</td>\n    </tr>\n    <tr>\n      <th>2</th>\n      <td>Algeria</td>\n      <td>25</td>\n      <td>0</td>\n      <td>14</td>\n      <td>0.7</td>\n      <td>Africa</td>\n    </tr>\n    <tr>\n      <th>3</th>\n      <td>Andorra</td>\n      <td>245</td>\n      <td>138</td>\n      <td>312</td>\n      <td>12.4</td>\n      <td>Europe</td>\n    </tr>\n    <tr>\n      <th>4</th>\n      <td>Angola</td>\n      <td>217</td>\n      <td>57</td>\n      <td>45</td>\n      <td>5.9</td>\n      <td>Africa</td>\n    </tr>\n  </tbody>\n</table>\n</div>"
                    },
                    "metadata": {}
                }
            ]
        },
        {
            "metadata": {},
            "cell_type": "markdown",
            "source": "<b>Question 1</b>:  Display the data types of each column using the attribute\u202fdtype."
        },
        {
            "metadata": {},
            "cell_type": "code",
            "source": "print(df.dtypes)",
            "execution_count": 5,
            "outputs": [
                {
                    "output_type": "stream",
                    "text": "country                          object\nbeer_servings                     int64\nspirit_servings                   int64\nwine_servings                     int64\ntotal_litres_of_pure_alcohol    float64\ncontinent                        object\ndtype: object\n",
                    "name": "stdout"
                }
            ]
        },
        {
            "metadata": {},
            "cell_type": "markdown",
            "source": "<b>Question 2</b> use the method\u202f<code>groupby</code> to get the number of wine servings per continent:"
        },
        {
            "metadata": {},
            "cell_type": "code",
            "source": "df['wine_servings'].unique()\ndf_wine = df[['wine_servings', 'continent']]\ndf_group_wine = df_wine.groupby(['continent'], as_index=False).sum()\nprint(df_group_wine)",
            "execution_count": 6,
            "outputs": [
                {
                    "output_type": "stream",
                    "text": "       continent  wine_servings\n0         Africa            862\n1           Asia            399\n2         Europe           6400\n3  North America            564\n4        Oceania            570\n5  South America            749\n",
                    "name": "stdout"
                }
            ]
        },
        {
            "metadata": {},
            "cell_type": "markdown",
            "source": "<b>Question 3:</b> Perform a statistical summary and analysis of beer servings for each continent:"
        },
        {
            "metadata": {},
            "cell_type": "code",
            "source": "df.groupby('continent')['beer_servings'].describe()",
            "execution_count": 7,
            "outputs": [
                {
                    "output_type": "execute_result",
                    "execution_count": 7,
                    "data": {
                        "text/plain": "               count        mean        std   min     25%    50%     75%  \\\ncontinent                                                                  \nAfrica          53.0   61.471698  80.557816   0.0   15.00   32.0   76.00   \nAsia            44.0   37.045455  49.469725   0.0    4.25   17.5   60.50   \nEurope          45.0  193.777778  99.631569   0.0  127.00  219.0  270.00   \nNorth America   23.0  145.434783  79.621163   1.0   80.00  143.0  198.00   \nOceania         16.0   89.687500  96.641412   0.0   21.00   52.5  125.75   \nSouth America   12.0  175.083333  65.242845  93.0  129.50  162.5  198.00   \n\n                 max  \ncontinent             \nAfrica         376.0  \nAsia           247.0  \nEurope         361.0  \nNorth America  285.0  \nOceania        306.0  \nSouth America  333.0  ",
                        "text/html": "<div>\n<style scoped>\n    .dataframe tbody tr th:only-of-type {\n        vertical-align: middle;\n    }\n\n    .dataframe tbody tr th {\n        vertical-align: top;\n    }\n\n    .dataframe thead th {\n        text-align: right;\n    }\n</style>\n<table border=\"1\" class=\"dataframe\">\n  <thead>\n    <tr style=\"text-align: right;\">\n      <th></th>\n      <th>count</th>\n      <th>mean</th>\n      <th>std</th>\n      <th>min</th>\n      <th>25%</th>\n      <th>50%</th>\n      <th>75%</th>\n      <th>max</th>\n    </tr>\n    <tr>\n      <th>continent</th>\n      <th></th>\n      <th></th>\n      <th></th>\n      <th></th>\n      <th></th>\n      <th></th>\n      <th></th>\n      <th></th>\n    </tr>\n  </thead>\n  <tbody>\n    <tr>\n      <th>Africa</th>\n      <td>53.0</td>\n      <td>61.471698</td>\n      <td>80.557816</td>\n      <td>0.0</td>\n      <td>15.00</td>\n      <td>32.0</td>\n      <td>76.00</td>\n      <td>376.0</td>\n    </tr>\n    <tr>\n      <th>Asia</th>\n      <td>44.0</td>\n      <td>37.045455</td>\n      <td>49.469725</td>\n      <td>0.0</td>\n      <td>4.25</td>\n      <td>17.5</td>\n      <td>60.50</td>\n      <td>247.0</td>\n    </tr>\n    <tr>\n      <th>Europe</th>\n      <td>45.0</td>\n      <td>193.777778</td>\n      <td>99.631569</td>\n      <td>0.0</td>\n      <td>127.00</td>\n      <td>219.0</td>\n      <td>270.00</td>\n      <td>361.0</td>\n    </tr>\n    <tr>\n      <th>North America</th>\n      <td>23.0</td>\n      <td>145.434783</td>\n      <td>79.621163</td>\n      <td>1.0</td>\n      <td>80.00</td>\n      <td>143.0</td>\n      <td>198.00</td>\n      <td>285.0</td>\n    </tr>\n    <tr>\n      <th>Oceania</th>\n      <td>16.0</td>\n      <td>89.687500</td>\n      <td>96.641412</td>\n      <td>0.0</td>\n      <td>21.00</td>\n      <td>52.5</td>\n      <td>125.75</td>\n      <td>306.0</td>\n    </tr>\n    <tr>\n      <th>South America</th>\n      <td>12.0</td>\n      <td>175.083333</td>\n      <td>65.242845</td>\n      <td>93.0</td>\n      <td>129.50</td>\n      <td>162.5</td>\n      <td>198.00</td>\n      <td>333.0</td>\n    </tr>\n  </tbody>\n</table>\n</div>"
                    },
                    "metadata": {}
                }
            ]
        },
        {
            "metadata": {},
            "cell_type": "markdown",
            "source": "<b>Question 4:</b> Use the function\u202fboxplot\u202fin the seaborn library to produce a plot that can be used to show the number of beer servings on each continent."
        },
        {
            "metadata": {},
            "cell_type": "code",
            "source": "df.boxplot(by='continent', column=['beer_servings'])\nplt.show()",
            "execution_count": 8,
            "outputs": [
                {
                    "output_type": "display_data",
                    "data": {
                        "text/plain": "<Figure size 432x288 with 1 Axes>",
                        "image/png": "[encoded data removed]"
                    },
                    "metadata": {
                        "needs_background": "light"
                    }
                }
            ]
        },
        {
            "metadata": {},
            "cell_type": "markdown",
            "source": "<b>Question 5</b>: Use the function\u202f<code> regplot</code> in the seaborn library to determine if the number of wine servings is\nnegatively or positively correlated with the number of beer servings."
        },
        {
            "metadata": {},
            "cell_type": "code",
            "source": "import seaborn as sns \nsns.regplot(x=\"beer_servings\", y= \"wine_servings\", data=df)\n#positive correlation\n",
            "execution_count": 9,
            "outputs": [
                {
                    "output_type": "execute_result",
                    "execution_count": 9,
                    "data": {
                        "text/plain": "<matplotlib.axes._subplots.AxesSubplot at 0x7f8d8881f550>"
                    },
                    "metadata": {}
                },
                {
                    "output_type": "display_data",
                    "data": {
                        "text/plain": "<Figure size 432x288 with 1 Axes>",
                        "image/png": "[encoded data removed]"
                    },
                    "metadata": {
                        "needs_background": "light"
                    }
                }
            ]
        },
        {
            "metadata": {},
            "cell_type": "markdown",
            "source": "<b> Question 6:</b> Fit a linear regression model to predict the <code>'total_litres_of_pure_alcohol'</code> using the number of <code>'wine_servings'</code> then calculate $R^{2}$:\n"
        },
        {
            "metadata": {},
            "cell_type": "code",
            "source": "from sklearn.linear_model import LinearRegression\nlm = LinearRegression()\nY = df[['total_litres_of_pure_alcohol']]\nX = df[['wine_servings']]\nlm.fit(X, Y)\nlm.score(X, Y)\n\nprint('The R-squre is: ', lm.score(X,Y))",
            "execution_count": 16,
            "outputs": [
                {
                    "output_type": "stream",
                    "text": "The R-squre is:  0.4456875459787605\n",
                    "name": "stdout"
                }
            ]
        },
        {
            "metadata": {},
            "cell_type": "markdown",
            "source": "### Question 7\nUse the list of features to predict the <code>'total_litres_of_pure_alcohol'</code>, split the data into training and testing and determine the $R^2$ on the test data, using the provided code:"
        },
        {
            "metadata": {},
            "cell_type": "code",
            "source": "from sklearn.linear_model import LinearRegression\n\n\ny_data = df['total_litres_of_pure_alcohol']\nx_data = df.drop('total_litres_of_pure_alcohol',axis=1)\n\nfeatures =['beer_servings','spirit_servings','wine_servings']\nX=df[features]\nfrom sklearn.model_selection import train_test_split\nX_train, X_test, y_train, y_test = train_test_split(X, Y, test_size=0.1, random_state=0)\nlm = LinearRegression()\nlm.fit(X_train, y_train)\nlm.score(X_test, y_test)\n\nprint('The R-squre is: ', lm.score(X_test, y_test))",
            "execution_count": 20,
            "outputs": [
                {
                    "output_type": "stream",
                    "text": "The R-squre is:  0.6990304512837944\n",
                    "name": "stdout"
                }
            ]
        },
        {
            "metadata": {},
            "cell_type": "markdown",
            "source": "<b>Question 8 :</b> Create a pipeline object that scales the data, performs a polynomial transform and fits a linear regression model. Fit the object using the training data in the question above, then calculate the R^2 using. the test data. Take a screenshot of your code and the $R^{2}$. There are some hints in the notebook:"
        },
        {
            "metadata": {},
            "cell_type": "markdown",
            "source": "<code>'scale'</code>\n\n<code>'polynomial'</code>\n\n<code>'model'</code>\n\nThe second element in the tuple contains the model constructor\n\n<code>StandardScaler()</code>\n\n<code>PolynomialFeatures(include_bias=False)</code>\n\n<code>LinearRegression()</code>"
        },
        {
            "metadata": {},
            "cell_type": "code",
            "source": "from sklearn.pipeline import Pipeline\nfrom sklearn.preprocessing import StandardScaler,PolynomialFeatures\n\n\nInput=[('scale',StandardScaler()),('polynomial', PolynomialFeatures(include_bias=False)),('model',LinearRegression())]\npipe=Pipeline(Input)\n\npipe.fit(X_train, y_train)\npipe.score(X_test, y_test)\n# Find the R^2\nprint('The R-square is: ', pipe.score(X_test, y_test))\n\n",
            "execution_count": 28,
            "outputs": [
                {
                    "output_type": "stream",
                    "text": "The R-square is:  0.7076376133886035\n",
                    "name": "stdout"
                },
                {
                    "output_type": "stream",
                    "text": "/opt/conda/envs/Python36/lib/python3.6/site-packages/sklearn/preprocessing/data.py:645: DataConversionWarning: Data with input dtype int64 were all converted to float64 by StandardScaler.\n  return self.partial_fit(X, y)\n/opt/conda/envs/Python36/lib/python3.6/site-packages/sklearn/base.py:467: DataConversionWarning: Data with input dtype int64 were all converted to float64 by StandardScaler.\n  return self.fit(X, y, **fit_params).transform(X)\n/opt/conda/envs/Python36/lib/python3.6/site-packages/sklearn/pipeline.py:511: DataConversionWarning: Data with input dtype int64 were all converted to float64 by StandardScaler.\n  Xt = transform.transform(Xt)\n/opt/conda/envs/Python36/lib/python3.6/site-packages/sklearn/pipeline.py:511: DataConversionWarning: Data with input dtype int64 were all converted to float64 by StandardScaler.\n  Xt = transform.transform(Xt)\n",
                    "name": "stderr"
                }
            ]
        },
        {
            "metadata": {},
            "cell_type": "markdown",
            "source": "<b>Question 9</b>: Create and fit a Ridge regression object using the training data, setting the regularization parameter to 0.1 and calculate the $R^{2}$ using the test data. Take a screenshot of your code and the $R^{2}$"
        },
        {
            "metadata": {},
            "cell_type": "code",
            "source": "from sklearn.linear_model import Ridge\n\n\nRR= Ridge(alpha=0.1)\nRR.fit(X_train, y_train) \nRR.score(X_test,y_test)\n\nprint('The R-square is: ', RR.score(X_test,y_test))",
            "execution_count": 23,
            "outputs": [
                {
                    "output_type": "stream",
                    "text": "The R-square is:  0.699030454901918\n",
                    "name": "stdout"
                }
            ]
        },
        {
            "metadata": {},
            "cell_type": "markdown",
            "source": "<b>Question 10 </b>: Perform a 2nd order polynomial transform on both the training data and testing data.  Create and fit a Ridge regression object using the training data, setting the regularization parameter to 0.1. Calculate the $R^{2}$ utilizing the test data provided. Take a screen-shot of your code and the $R^{2}$. "
        },
        {
            "metadata": {},
            "cell_type": "code",
            "source": "pr=PolynomialFeatures(degree=2)\nx_train_pr=pr.fit_transform(X_train)\nx_test_pr=pr.fit_transform(X_test)\n\nRR= Ridge(alpha=0.1)\nRR.fit(x_train_pr, y_train) \nRR.score(x_test_pr,y_test)\n\nprint('The R-square is: ', RR.score(x_test_pr,y_test))",
            "execution_count": 26,
            "outputs": [
                {
                    "output_type": "stream",
                    "text": "The R-square is:  0.7076376228095798\n",
                    "name": "stdout"
                }
            ]
        },
        {
            "metadata": {},
            "cell_type": "markdown",
            "source": "<a href=\"https://dataplatform.cloud.ibm.com/docs/content/wsj/analyze-data/share-notebooks.html\\\" > CLICK HERE </a>  to see how to share your notebook"
        },
        {
            "metadata": {},
            "cell_type": "markdown",
            "source": "<b>Sources</b>"
        },
        {
            "metadata": {},
            "cell_type": "markdown",
            "source": "<a href=https://fivethirtyeight.com/features/dear-mona-followup-where-do-people-drink-the-most-beer-wine-and-spirits/> Dear Mona Followup: Where Do People Drink The Most Beer, Wine And Spirits?</a> by By Mona Chalabi , you can download the dataset <a href=https://github.com/fivethirtyeight/data/tree/master/alcohol-consumption>here</a>."
        }
    ],
    "metadata": {
        "kernelspec": {
            "name": "python3",
            "display_name": "Python 3.6",
            "language": "python"
        },
        "language_info": {
            "name": "python",
            "version": "3.6.9",
            "mimetype": "text/x-python",
            "codemirror_mode": {
                "name": "ipython",
                "version": 3
            },
            "pygments_lexer": "ipython3",
            "nbconvert_exporter": "python",
            "file_extension": ".py"
        }
    },
    "nbformat": 4,
    "nbformat_minor": 2
}